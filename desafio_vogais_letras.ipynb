{
  "nbformat": 4,
  "nbformat_minor": 0,
  "metadata": {
    "colab": {
      "provenance": [],
      "authorship_tag": "ABX9TyPLSthCj0ctCJ/ASr2DGVO1",
      "include_colab_link": true
    },
    "kernelspec": {
      "name": "python3",
      "display_name": "Python 3"
    },
    "language_info": {
      "name": "python"
    }
  },
  "cells": [
    {
      "cell_type": "markdown",
      "metadata": {
        "id": "view-in-github",
        "colab_type": "text"
      },
      "source": [
        "<a href=\"https://colab.research.google.com/github/washiData/DesafiosUdemy.analise-python/blob/main/desafio_vogais_letras.ipynb\" target=\"_parent\"><img src=\"https://colab.research.google.com/assets/colab-badge.svg\" alt=\"Open In Colab\"/></a>"
      ]
    },
    {
      "cell_type": "code",
      "execution_count": null,
      "metadata": {
        "colab": {
          "base_uri": "https://localhost:8080/"
        },
        "id": "B2tA9rvE2eoF",
        "outputId": "24c7c16b-a83b-42e2-ae08-7eda15d7840e"
      },
      "outputs": [
        {
          "output_type": "stream",
          "name": "stdout",
          "text": [
            "Digite uma palavra ou frase: Deus é maravilhoso\n",
            "A quantidade total de letras é: 16\n",
            "A letra mais repetida é: \"s\" que aparece 2 vezes\n"
          ]
        }
      ],
      "source": [
        "def palavras():\n",
        "    user_input = input(\"Digite uma palavra ou frase: \")\n",
        "    contador = {}\n",
        "\n",
        "    for letra in user_input:\n",
        "        if letra.isalpha():  # Conta apenas letras, ignorando outros caracteres\n",
        "            letra = letra.lower()  # Ignora a diferença entre maiúsculas e minúsculas\n",
        "            if letra in contador:\n",
        "                contador[letra] += 1\n",
        "            else:\n",
        "                contador[letra] = 1\n",
        "\n",
        "    if contador:\n",
        "        # A letra mais repetida\n",
        "        letra_mais_repetida = max(contador, key=contador.get)\n",
        "\n",
        "        # Mostra a quantidade total de letras\n",
        "        total_letras = sum(contador.values())\n",
        "\n",
        "        print(f'A quantidade total de letras é: {total_letras}')\n",
        "        print(f'A letra mais repetida é: \"{letra_mais_repetida}\" que aparece {contador[letra_mais_repetida]} vezes')\n",
        "    else:\n",
        "        print('Nenhuma letra encontrada na entrada.')\n",
        "\n",
        "palavras()\n"
      ]
    },
    {
      "cell_type": "code",
      "source": [
        "def palavras():\n",
        "    vogais = 'aeiou'\n",
        "    user_input = input(\"Digite uma letra: \")\n",
        "    contador = 0\n",
        "\n",
        "    for i in vogais:\n",
        "        if i in user_input:\n",
        "            contador += 1\n",
        "\n",
        "    if contador > 0:\n",
        "        print(f'A quantidade de vogais é: {contador}')\n",
        "    else:\n",
        "        print(-1)\n",
        "\n",
        "palavras()\n"
      ],
      "metadata": {
        "colab": {
          "base_uri": "https://localhost:8080/"
        },
        "id": "saq2Xfdm2ub8",
        "outputId": "6680ec4b-c331-4def-bf7f-5cc0f903fcd9"
      },
      "execution_count": null,
      "outputs": [
        {
          "output_type": "stream",
          "name": "stdout",
          "text": [
            "Digite uma letra: A palavra de Deus é eficaz\n",
            "A quantidade de vogais é: 4\n"
          ]
        }
      ]
    }
  ]
}