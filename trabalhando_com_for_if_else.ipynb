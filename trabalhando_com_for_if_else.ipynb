{
  "nbformat": 4,
  "nbformat_minor": 0,
  "metadata": {
    "colab": {
      "provenance": [],
      "authorship_tag": "ABX9TyPU3kshwjUZ4AnYq1IjjvE/",
      "include_colab_link": true
    },
    "kernelspec": {
      "name": "python3",
      "display_name": "Python 3"
    },
    "language_info": {
      "name": "python"
    }
  },
  "cells": [
    {
      "cell_type": "markdown",
      "metadata": {
        "id": "view-in-github",
        "colab_type": "text"
      },
      "source": [
        "<a href=\"https://colab.research.google.com/github/washiData/DesafiosUdemy.analise-python/blob/main/trabalhando_com_for_if_else.ipynb\" target=\"_parent\"><img src=\"https://colab.research.google.com/assets/colab-badge.svg\" alt=\"Open In Colab\"/></a>"
      ]
    },
    {
      "cell_type": "code",
      "source": [
        "# prompt: temperaturas = [48, 54, 60, 65,71]  cozimento = ['selada', 'ao ponto para mal',             'ao ponto',              'ao ponto para o bem', 'bem passada']  temperatura = int(input('Qual é a temperatura da carne?'))  for i in range(len(temperaturas)):      if temperatura < temperaturas[i]:     print({cozimento[i]})     break   elif temperatura >= 72:    print('bem passada')   else:    print('cozinh\n",
        "\n",
        "temperaturas = [48, 54, 60, 65,71]\n",
        "cozimento = ['selada', 'ao ponto para mal', 'ao ponto', 'ao ponto para o bem', 'bem passada']\n",
        "temperatura = int(input('Qual é a temperatura da carne?'))\n",
        "for i in range(len(temperaturas)):\n",
        "    if temperatura < temperaturas[i]:\n",
        "        print(cozimento[i])\n",
        "        break\n",
        "    elif temperatura >= 72:\n",
        "        print('bem passada')\n",
        "    else:\n",
        "        print('cozinhando')\n"
      ],
      "metadata": {
        "colab": {
          "base_uri": "https://localhost:8080/"
        },
        "id": "Tm3gfml5EogW",
        "outputId": "4bef3d23-ba19-456a-ac22-1f895bdba6e9"
      },
      "execution_count": null,
      "outputs": [
        {
          "output_type": "stream",
          "name": "stdout",
          "text": [
            "Qual é a temperatura da carne?45\n",
            "selada\n"
          ]
        }
      ]
    }
  ]
}