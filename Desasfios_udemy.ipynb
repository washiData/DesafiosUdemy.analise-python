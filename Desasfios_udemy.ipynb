{
  "nbformat": 4,
  "nbformat_minor": 0,
  "metadata": {
    "colab": {
      "provenance": [],
      "authorship_tag": "ABX9TyP9gxZ80gg4J6mKQ7aMoa2J",
      "include_colab_link": true
    },
    "kernelspec": {
      "name": "python3",
      "display_name": "Python 3"
    },
    "language_info": {
      "name": "python"
    }
  },
  "cells": [
    {
      "cell_type": "markdown",
      "metadata": {
        "id": "view-in-github",
        "colab_type": "text"
      },
      "source": [
        "<a href=\"https://colab.research.google.com/github/washiData/DesafiosUdemy.analise-python/blob/main/Desasfios_udemy.ipynb\" target=\"_parent\"><img src=\"https://colab.research.google.com/assets/colab-badge.svg\" alt=\"Open In Colab\"/></a>"
      ]
    },
    {
      "cell_type": "code",
      "source": [
        "\n",
        "first_name = 'Washington'\n",
        "age = 41\n",
        "print( f' Óla, meu nome é {first_name} e eu tenho {age} anos.')\n",
        "# ou\n",
        "print('Óla, meu nome é',first_name,'e eu tenho',age,'anos.')\n",
        "\n"
      ],
      "metadata": {
        "colab": {
          "base_uri": "https://localhost:8080/"
        },
        "id": "nasNBxKjx_5S",
        "outputId": "c2203594-118f-4cfe-e3c4-ab2d90c9f961"
      },
      "execution_count": null,
      "outputs": [
        {
          "output_type": "stream",
          "name": "stdout",
          "text": [
            " Óla, meu nome é Washington e eu tenho 41 anos.\n",
            "Óla, meu nome é Washington e eu tenho 41 anos.\n"
          ]
        }
      ]
    },
    {
      "cell_type": "code",
      "source": [
        "first_name = input('Por favor, digite o seu nome: ')\n",
        "age = int(input('Agora, digite a sua idade: '))\n",
        "print(f'Olá, {first_name}, você tem {age} anos')\n",
        "print('Olá,{}! Você tem {} anos'.format(first_name, age))\n",
        "print('Olá,', first_name, 'Você tem', age, 'anos')\n"
      ],
      "metadata": {
        "colab": {
          "base_uri": "https://localhost:8080/"
        },
        "id": "NEMutQDFXkn6",
        "outputId": "46a7aa2b-7896-41e1-c65d-1b856e1c7bec"
      },
      "execution_count": null,
      "outputs": [
        {
          "output_type": "stream",
          "name": "stdout",
          "text": [
            "Por favor, digite o seu nome: Washington\n",
            "Agora, digite a sua idade: 41\n",
            "Olá, Washington, você tem 41 anos\n",
            "Olá,Washington! Você tem 41 anos\n",
            "Olá, Washington Você tem 41 anos\n"
          ]
        }
      ]
    },
    {
      "cell_type": "code",
      "source": [
        "num1 = float(input('Digite o primeiro numero:'))\n",
        "num2 = float(input('Digite o segundo numero:'))\n",
        "\n",
        "soma = num1 + num2\n",
        "subtracao = num1 - num2\n",
        "multiplicacao = num1 * num2\n",
        "divisao = num1 / num2\n",
        "exponenciacao = num1 ** num2\n",
        "\n",
        "print(f'Soma:{soma}')\n",
        "print(f'Subtração:{subtracao}')\n",
        "print(f'Multiplicação:{multiplicacao}')\n",
        "print(f'Divisão:{divisao}')\n",
        "print(f'Exponenciação:{exponenciacao}')\n",
        "\n"
      ],
      "metadata": {
        "colab": {
          "base_uri": "https://localhost:8080/"
        },
        "id": "9WF0F-gsCy6O",
        "outputId": "6d863e63-5579-4a2c-b276-fe0f9eaaac27"
      },
      "execution_count": null,
      "outputs": [
        {
          "output_type": "stream",
          "name": "stdout",
          "text": [
            "Digite o primeiro numero:40.6\n",
            "Digite o segundo numero:32\n",
            "Soma:72.6\n",
            "Subtração:8.600000000000001\n",
            "Multiplicação:1299.2\n",
            "Divisão:1.26875\n",
            "Exponenciação:2.9705240609573184e+51\n"
          ]
        }
      ]
    },
    {
      "cell_type": "code",
      "source": [
        "frutas = ['maça','morango', 'manga','uva','abacaxi']\n",
        "# print(frutas)\n",
        "# print(frutas[0])\n",
        "# print(frutas[3])\n",
        "# frutas[1] = 'morango'\n",
        "# frutas.append('abacaxi')\n",
        "# frutas[1:3] = ['abacaxi','abacate']\n",
        "frutas.remove('manga')\n",
        "del frutas[-1]\n",
        "\n",
        "print(frutas)"
      ],
      "metadata": {
        "colab": {
          "base_uri": "https://localhost:8080/"
        },
        "id": "WeCwXdMmHy3z",
        "outputId": "ffcd8477-b74c-4ac2-e743-f5c6bb78039a"
      },
      "execution_count": null,
      "outputs": [
        {
          "output_type": "stream",
          "name": "stdout",
          "text": [
            "['maça', 'morango', 'uva']\n"
          ]
        }
      ]
    },
    {
      "cell_type": "code",
      "source": [
        "frutas = ['maça', 'morango', 'uva']\n",
        "\n",
        "for i in frutas:\n",
        "    print(f'Eu gosto de {i}')"
      ],
      "metadata": {
        "colab": {
          "base_uri": "https://localhost:8080/"
        },
        "id": "SJ6u_Oe3fNIq",
        "outputId": "47502813-d069-4eb7-b076-ef5348020fcc"
      },
      "execution_count": null,
      "outputs": [
        {
          "output_type": "stream",
          "name": "stdout",
          "text": [
            "Eu gosto de maça\n",
            "Eu gosto de morango\n",
            "Eu gosto de uva\n"
          ]
        }
      ]
    },
    {
      "cell_type": "code",
      "source": [
        "for i in range(1, 11):\n",
        "  # start, stop, step = range(1, 11, 2) step = sempre pula de dois em dois ou de quantos quiser\n",
        "  print(i)"
      ],
      "metadata": {
        "colab": {
          "base_uri": "https://localhost:8080/"
        },
        "id": "wOeSwst4pGLl",
        "outputId": "63b5b56a-92ee-4e82-8f42-ac43cfb6a37a"
      },
      "execution_count": null,
      "outputs": [
        {
          "output_type": "stream",
          "name": "stdout",
          "text": [
            "1\n",
            "2\n",
            "3\n",
            "4\n",
            "5\n",
            "6\n",
            "7\n",
            "8\n",
            "9\n",
            "10\n"
          ]
        }
      ]
    },
    {
      "cell_type": "code",
      "source": [
        "frutas = ['maça', 'banana', 'uva']\n",
        "vegetais = ['alface', 'cenoura', 'pepino']\n",
        "\n",
        "for i in frutas:\n",
        "  for x in vegetais:\n",
        "    print(i, x)"
      ],
      "metadata": {
        "colab": {
          "base_uri": "https://localhost:8080/"
        },
        "id": "3C3VSYS9sAtA",
        "outputId": "ef910753-4b2a-4fc2-aae6-7dea0f4f1dba"
      },
      "execution_count": null,
      "outputs": [
        {
          "output_type": "stream",
          "name": "stdout",
          "text": [
            "maça alface\n",
            "maça cenoura\n",
            "maça pepino\n",
            "banana alface\n",
            "banana cenoura\n",
            "banana pepino\n",
            "uva alface\n",
            "uva cenoura\n",
            "uva pepino\n"
          ]
        }
      ]
    },
    {
      "cell_type": "code",
      "source": [
        "valor = 1\n",
        "while valor <= 10:\n",
        "    print(valor)\n",
        "    valor += 1"
      ],
      "metadata": {
        "colab": {
          "base_uri": "https://localhost:8080/"
        },
        "id": "K4yugXjFxFE-",
        "outputId": "a03b2193-b5c4-4dd0-af36-7d8436af685b"
      },
      "execution_count": null,
      "outputs": [
        {
          "output_type": "stream",
          "name": "stdout",
          "text": [
            "1\n",
            "2\n",
            "3\n",
            "4\n",
            "5\n",
            "6\n",
            "7\n",
            "8\n",
            "9\n",
            "10\n"
          ]
        }
      ]
    },
    {
      "cell_type": "code",
      "source": [
        "print('loop com break')\n",
        "numero = 1\n",
        "while numero <= 10:\n",
        "  print(numero)\n",
        "  numero += 1\n",
        "  if numero ==5:\n",
        "    print(numero)\n",
        "    break\n",
        "\n",
        "# #for numero in range(1, 11):\n",
        "#      if numero > 5:\n",
        "#          break\n",
        "#      print(numero)\n",
        "\n"
      ],
      "metadata": {
        "colab": {
          "base_uri": "https://localhost:8080/"
        },
        "id": "Ac__x9dgw7kA",
        "outputId": "64f5565e-643b-4491-dbdc-5524fa294971"
      },
      "execution_count": null,
      "outputs": [
        {
          "output_type": "stream",
          "name": "stdout",
          "text": [
            "loop com break\n",
            "1\n",
            "2\n",
            "3\n",
            "4\n",
            "5\n"
          ]
        }
      ]
    },
    {
      "cell_type": "code",
      "source": [
        "print('loop com o continue')\n",
        "numero = 1\n",
        "while numero <= 10:\n",
        "  print(numero)\n",
        "  numero += 1\n",
        "  if numero > 5:\n",
        "    continue\n",
        "\n",
        "# for numero in range(1, 11):\n",
        "#   if numero == 5:\n",
        "#     continue\n",
        "#   print(numero)\n"
      ],
      "metadata": {
        "colab": {
          "base_uri": "https://localhost:8080/"
        },
        "id": "6qkeZ17ROrtn",
        "outputId": "ee04a007-e7ae-4ff4-e711-6097c816c66b"
      },
      "execution_count": null,
      "outputs": [
        {
          "output_type": "stream",
          "name": "stdout",
          "text": [
            "1\n",
            "2\n",
            "3\n",
            "4\n",
            "5\n",
            "6\n",
            "7\n",
            "8\n",
            "9\n",
            "10\n"
          ]
        }
      ]
    },
    {
      "cell_type": "code",
      "source": [
        "frutas = ['maçã','banana', 'maçã','morango', 'maçã','uva']\n",
        "contador = 0\n",
        "for fruta in frutas:\n",
        "    if fruta == 'maçã':\n",
        "       contador += 1\n",
        "print('Maçãs encontradas:',contador)"
      ],
      "metadata": {
        "id": "ubkbhARaVRdY",
        "colab": {
          "base_uri": "https://localhost:8080/"
        },
        "outputId": "6a008a06-06b0-4c81-e691-6f495eefb5e8"
      },
      "execution_count": null,
      "outputs": [
        {
          "output_type": "stream",
          "name": "stdout",
          "text": [
            "Maçãs encontradas: 3\n"
          ]
        }
      ]
    },
    {
      "cell_type": "code",
      "source": [
        "numero = int(input('Digite um numero:'))\n",
        "\n",
        "if numero > 10:\n",
        "    print('O numero é maior do que 10')\n",
        "else:\n",
        "    print('O numero é meno ou igual a 10')"
      ],
      "metadata": {
        "id": "0kMS_cHxlcoQ",
        "colab": {
          "base_uri": "https://localhost:8080/"
        },
        "outputId": "683f67a4-1659-4a8c-d700-ae8184f095b7"
      },
      "execution_count": null,
      "outputs": [
        {
          "output_type": "stream",
          "name": "stdout",
          "text": [
            "Digite um numero:11\n",
            "O numero é maior do que 10\n"
          ]
        }
      ]
    },
    {
      "cell_type": "code",
      "source": [
        "idade = int(input('Digite a sua idade: '))\n",
        "\n",
        "if idade >= 20:\n",
        "  print('Você é um adulto')\n",
        "elif idade >= 13:\n",
        "  print('Você é um adolescente')\n",
        "else:\n",
        "  print('Você é uma criança')"
      ],
      "metadata": {
        "id": "-SJtBoLrjXKK",
        "colab": {
          "base_uri": "https://localhost:8080/"
        },
        "outputId": "5c2ae0aa-8851-4302-d59d-316748dacc15"
      },
      "execution_count": null,
      "outputs": [
        {
          "output_type": "stream",
          "name": "stdout",
          "text": [
            "Digite a sua idade: 12\n",
            "Você é uma criança\n"
          ]
        }
      ]
    },
    {
      "cell_type": "code",
      "source": [
        "carros = ['BMW X6', 'BMW i5', 'BMWi8']\n",
        "\n",
        "carro = input('Digite o nome do carro: ')\n",
        "\n",
        "if carro in carros:\n",
        "  print('Este carro está disponível')\n",
        "else:\n",
        "  print('Desculpe, este carro não está disponível')"
      ],
      "metadata": {
        "colab": {
          "base_uri": "https://localhost:8080/"
        },
        "id": "Ofw5f1Lvowtu",
        "outputId": "bcba8923-499f-4cc4-baaa-49feb1c87b1a"
      },
      "execution_count": null,
      "outputs": [
        {
          "output_type": "stream",
          "name": "stdout",
          "text": [
            "Digite o nome do carro: maverick\n",
            "Desculpe, este carro não está disponível\n"
          ]
        }
      ]
    },
    {
      "cell_type": "code",
      "source": [
        "while True:\n",
        "    fruta = input(' Digite o nome da fruta: ')\n",
        "    if fruta.lower() == 'abacate':\n",
        "        break\n",
        "print('Parabéns, você acertou a fruta!')\n",
        "\n"
      ],
      "metadata": {
        "id": "_A3xgidVregA",
        "colab": {
          "base_uri": "https://localhost:8080/"
        },
        "outputId": "c9d465fb-23c0-4668-c6dd-fa2673bb82a9"
      },
      "execution_count": null,
      "outputs": [
        {
          "output_type": "stream",
          "name": "stdout",
          "text": [
            " Digite o nome da fruta: morango\n",
            " Digite o nome da fruta: abacate\n",
            "Parabéns, você acertou a fruta!\n"
          ]
        }
      ]
    },
    {
      "cell_type": "code",
      "source": [
        "#numeros = [1, 2, 3, 4, 5, 6, 7, 8, 9, 10]\n",
        "\n",
        "numeros = list(range(1,11))\n",
        "for i in numeros:\n",
        "    if i % 2 == 0:\n",
        "      print(f'O numero {i} é par')\n",
        "    else:\n",
        "      print(f'O numero {i} é impar')\n",
        "\n",
        "\n",
        "\n",
        "\n"
      ],
      "metadata": {
        "id": "WlmcW2_P45Or",
        "colab": {
          "base_uri": "https://localhost:8080/"
        },
        "outputId": "8be22b13-7d0c-4b67-a182-1b04ce9bfed9"
      },
      "execution_count": null,
      "outputs": [
        {
          "output_type": "stream",
          "name": "stdout",
          "text": [
            "O numero 1 é impar\n",
            "O numero 2 é par\n",
            "O numero 3 é impar\n",
            "O numero 4 é par\n",
            "O numero 5 é impar\n",
            "O numero 6 é par\n",
            "O numero 7 é impar\n",
            "O numero 8 é par\n",
            "O numero 9 é impar\n",
            "O numero 10 é par\n"
          ]
        }
      ]
    },
    {
      "cell_type": "code",
      "source": [
        "\n",
        "cidades = ('São Paulo', 'Rio de Janeiro', 'Salvador')\n",
        "cidade_usuario = input('Digite o nome da cidade:')\n",
        "\n",
        "if cidade_usuario in cidades:\n",
        "    print('A cidade está na lista de cidades')\n",
        "else:\n",
        "    print('A cidade está nâo lista de cidades')\n",
        "\n"
      ],
      "metadata": {
        "id": "OmTQe_YREPOQ",
        "colab": {
          "base_uri": "https://localhost:8080/"
        },
        "outputId": "955bcdf1-2ece-489e-aad8-c0292625eb78"
      },
      "execution_count": null,
      "outputs": [
        {
          "output_type": "stream",
          "name": "stdout",
          "text": [
            "Digite o nome da cidade:São Paulo\n",
            "A cidade está na lista de cidades\n"
          ]
        }
      ]
    },
    {
      "cell_type": "code",
      "source": [
        "paises = {'Brasil': 'Brasilia', 'França': 'Paris', 'Japão': 'Toquio',\n",
        "          'Israel': 'Tel avive','Egito':' Cairo'}\n",
        "\n",
        "paises_usuario = input('Digite o nome do pais: ')\n",
        "\n",
        "if paises_usuario in paises:\n",
        "          print(f' A capital de {paises_usuario} é {paises[paises_usuario]} ')\n",
        "else:\n",
        "          print(f'Desculpe, não temos informações sobre este pais')\n"
      ],
      "metadata": {
        "id": "dSy8_LK9QUsM",
        "colab": {
          "base_uri": "https://localhost:8080/"
        },
        "outputId": "167eb3d9-a76e-4bd3-c709-cbda2cdfacb1"
      },
      "execution_count": null,
      "outputs": [
        {
          "output_type": "stream",
          "name": "stdout",
          "text": [
            "Digite o nome do pais: Israel\n",
            " A capital da Israel é Tel avive \n"
          ]
        }
      ]
    }
  ]
}