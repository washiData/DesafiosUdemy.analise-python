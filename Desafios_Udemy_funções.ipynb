{
  "nbformat": 4,
  "nbformat_minor": 0,
  "metadata": {
    "colab": {
      "provenance": [],
      "authorship_tag": "ABX9TyOInJiPZVGcO7BmCI1BqVcI",
      "include_colab_link": true
    },
    "kernelspec": {
      "name": "python3",
      "display_name": "Python 3"
    },
    "language_info": {
      "name": "python"
    }
  },
  "cells": [
    {
      "cell_type": "markdown",
      "metadata": {
        "id": "view-in-github",
        "colab_type": "text"
      },
      "source": [
        "<a href=\"https://colab.research.google.com/github/washiData/DesafiosUdemy.analise-python/blob/main/Desafios_Udemy_fun%C3%A7%C3%B5es.ipynb\" target=\"_parent\"><img src=\"https://colab.research.google.com/assets/colab-badge.svg\" alt=\"Open In Colab\"/></a>"
      ]
    },
    {
      "cell_type": "code",
      "execution_count": null,
      "metadata": {
        "id": "IgCPzVKmFC3j"
      },
      "outputs": [],
      "source": [
        "def quadrado(numero):\n",
        "  return numero ** 2\n",
        "num =  int(input('Digite um numero: '))\n",
        "\n",
        "print(f'o quadrado de {num} é {quadrado(num)}')\n"
      ]
    },
    {
      "cell_type": "code",
      "source": [
        "def numeros(num1,num2):\n",
        "  return num1 + num2\n",
        "\n",
        "resultado1 =  int(input('Digite o primeiro numero:'))\n",
        "resultado2 =  int(input('Digite o segundo numero: '))\n",
        "\n",
        "print(f'A soma dos dois é numeros: {numeros(resultado1, resultado2)}')\n"
      ],
      "metadata": {
        "id": "cE0EEly8FQeg"
      },
      "execution_count": null,
      "outputs": []
    },
    {
      "cell_type": "code",
      "source": [
        "def potencia(base, expoente=2):\n",
        "  return base ** expoente\n",
        "\n",
        "user_number =  int(input('Digite um numero base:'))\n",
        "user_exponente =  input('Digite um expoente (default 2): ')\n",
        "\n",
        "if user_exponente:\n",
        "  print(f'O resultado é: {potencia(user_number, int(user_exponente))}')\n",
        "else:\n",
        "  print(f'O resultado é: {potencia(user_number)}')\n"
      ],
      "metadata": {
        "id": "JYzKF63VFUCo"
      },
      "execution_count": null,
      "outputs": []
    },
    {
      "cell_type": "code",
      "source": [
        "# def fatorial(numero):\n",
        "#     if numero == 0:\n",
        "#         return 1\n",
        "#     else:\n",
        "#         return numero * fatorial(numero - 1)\n",
        "\n",
        "# # Exemplo de uso:\n",
        "# numero = int(input('Digite um numero:'))\n",
        "# print(\"O fatorial de\", numero, \"é\", fatorial(numero))\n",
        "\n",
        "                   #ou\n",
        "def fatorial(n):\n",
        "    if n == 0 or n == 1:\n",
        "        return 1\n",
        "    else:\n",
        "        return n * fatorial(n - 1)\n",
        "\n",
        "user_number = int(input('Digite um numero:'))\n",
        "print(f'O fatorial de {user_number} é {fatorial(user_number)}')\n"
      ],
      "metadata": {
        "id": "3o7rKcqkFYQI"
      },
      "execution_count": null,
      "outputs": []
    },
    {
      "cell_type": "code",
      "source": [
        "\n",
        "def dobrar(num):\n",
        "  return num * 2\n",
        "\n",
        "def quadrado(num):\n",
        "  return dobrar(num) **2\n",
        "\n",
        "user_number = int(input('Digite um numero:'))\n",
        "\n",
        "\n",
        "print(f'O quadrado do dobro do numero é {user_number} é {quadrado(user_number)}')\n",
        "\n",
        "\n"
      ],
      "metadata": {
        "id": "JPS_CEG_FqM_"
      },
      "execution_count": null,
      "outputs": []
    },
    {
      "cell_type": "code",
      "source": [],
      "metadata": {
        "id": "ghQ1MeImUA-8"
      },
      "execution_count": null,
      "outputs": []
    },
    {
      "cell_type": "code",
      "source": [
        "# def multiplicar(num1, num2):\n",
        "#   return num1 * num2\n",
        "\n",
        "\n",
        "\n",
        "multilpicar = lambda num1, num2: num1 * num2\n",
        "\n",
        "user_number1 = int(input('Digite um numero: '))\n",
        "user_number2 = int(input('Digite um numero: '))\n",
        "\n",
        "print(f'A multiplicação de {user_number1} e {user_number2} é {multilpicar(user_number1, user_number2)}')"
      ],
      "metadata": {
        "colab": {
          "base_uri": "https://localhost:8080/"
        },
        "id": "bPXUPmuxDZMK",
        "outputId": "0bc5792b-1b7f-46ea-cfb3-d67e9495e609"
      },
      "execution_count": 9,
      "outputs": [
        {
          "output_type": "stream",
          "name": "stdout",
          "text": [
            "Digite um numero: 5\n",
            "Digite um numero: 5\n",
            "A multiplicação de 5 e 5 é 25\n"
          ]
        }
      ]
    },
    {
      "cell_type": "code",
      "source": [
        "numeros = lambda num:'Par' if num  % 2 == 0 else 'Impar'\n",
        "\n",
        "user_number = int(input('Digite um numero: '))\n",
        "print(f' O numero {user_number} é {numeros(user_number)}')"
      ],
      "metadata": {
        "colab": {
          "base_uri": "https://localhost:8080/"
        },
        "id": "ZIoTR01YpZZG",
        "outputId": "42d6a7c2-c633-4eb0-ab22-c8d81e7698f3"
      },
      "execution_count": 7,
      "outputs": [
        {
          "output_type": "stream",
          "name": "stdout",
          "text": [
            "Digite um numero: 5\n",
            " O numero 5 é Impar\n"
          ]
        }
      ]
    },
    {
      "cell_type": "code",
      "source": [
        "def par_ou_impar(num):\n",
        "  if num % 2 == 0:\n",
        "    return 'Par'\n",
        "  else:\n",
        "    return 'Impar'\n",
        "\n",
        "user_number = int(input('Digite um numero: '))\n",
        "print(f' O numero {user_number} é {par_ou_impar(user_number)}')"
      ],
      "metadata": {
        "id": "CjKflssv7Pie",
        "colab": {
          "base_uri": "https://localhost:8080/"
        },
        "outputId": "208c1fe5-bfb2-4b50-8ab8-3bfa377bbcc0"
      },
      "execution_count": 6,
      "outputs": [
        {
          "output_type": "stream",
          "name": "stdout",
          "text": [
            "Digite um numero: 2\n",
            " O numero 2 é Par\n"
          ]
        }
      ]
    },
    {
      "cell_type": "code",
      "source": [
        "lista = [1, 2, 3, 4, 5, 6]\n",
        "numeros = lambda lista: lista ** 2\n",
        "\n",
        "for i in lista:\n",
        "  print(f' O quadrado do numero  {lista} é {numeros(i)}')\n",
        "\n"
      ],
      "metadata": {
        "id": "C0aplAcUT77R",
        "colab": {
          "base_uri": "https://localhost:8080/"
        },
        "outputId": "b48963ee-26b3-4b97-b5b2-fdc96e6696b0"
      },
      "execution_count": 4,
      "outputs": [
        {
          "output_type": "stream",
          "name": "stdout",
          "text": [
            " O quadrado do numero  [1, 2, 3, 4, 5, 6] é 1\n",
            " O quadrado do numero  [1, 2, 3, 4, 5, 6] é 4\n",
            " O quadrado do numero  [1, 2, 3, 4, 5, 6] é 9\n",
            " O quadrado do numero  [1, 2, 3, 4, 5, 6] é 16\n",
            " O quadrado do numero  [1, 2, 3, 4, 5, 6] é 25\n",
            " O quadrado do numero  [1, 2, 3, 4, 5, 6] é 36\n"
          ]
        }
      ]
    },
    {
      "cell_type": "code",
      "source": [
        "numeros = [1, 2, 3, 4, 5, 6 ]\n",
        "quadrado = lambda num: num **2\n",
        "\n",
        "resultados = []\n",
        "for i in numeros:\n",
        "  resultados.append(quadrado(i))\n",
        "\n",
        "print(f'Os quadrados dos numeros{numeros} são {resultados}')"
      ],
      "metadata": {
        "colab": {
          "base_uri": "https://localhost:8080/"
        },
        "id": "HfAlUzBUyjnk",
        "outputId": "88628f29-1a91-4b5a-cc5c-1281c40dc81c"
      },
      "execution_count": 3,
      "outputs": [
        {
          "output_type": "stream",
          "name": "stdout",
          "text": [
            "Os quadrados dos numeros[1, 2, 3, 4, 5, 6] são [1, 4, 9, 16, 25, 36]\n"
          ]
        }
      ]
    }
  ]
}